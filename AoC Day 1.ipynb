{
 "cells": [
  {
   "cell_type": "markdown",
   "id": "86fe4e89",
   "metadata": {},
   "source": [
    "# Advent of Code 2022 Day 1"
   ]
  },
  {
   "cell_type": "markdown",
   "id": "6b54948b",
   "metadata": {},
   "source": [
    "## Part 1"
   ]
  },
  {
   "cell_type": "code",
   "execution_count": 1,
   "id": "bcb0ad2e",
   "metadata": {},
   "outputs": [],
   "source": [
    "import pandas as pd"
   ]
  },
  {
   "cell_type": "code",
   "execution_count": 48,
   "id": "752d1c67",
   "metadata": {},
   "outputs": [],
   "source": [
    "cal = open(\"day1.txt\", \"r\")\n",
    "data = cal.read()"
   ]
  },
  {
   "cell_type": "code",
   "execution_count": 52,
   "id": "413d4f3a",
   "metadata": {},
   "outputs": [],
   "source": [
    "sums=[]\n",
    "for elf in data.split(\"\\n\\n\"):\n",
    "    sums.append(sum([int(snack_calories) for snack_calories in elf.split(\"\\n\")]))"
   ]
  },
  {
   "cell_type": "code",
   "execution_count": 54,
   "id": "7d18c70a",
   "metadata": {},
   "outputs": [
    {
     "data": {
      "text/plain": [
       "67633"
      ]
     },
     "execution_count": 54,
     "metadata": {},
     "output_type": "execute_result"
    }
   ],
   "source": [
    "#get the highest calorie sum\n",
    "max(sums)"
   ]
  },
  {
   "cell_type": "markdown",
   "id": "0bef287e",
   "metadata": {},
   "source": [
    "## Part 2"
   ]
  },
  {
   "cell_type": "code",
   "execution_count": 63,
   "id": "64b79db5",
   "metadata": {},
   "outputs": [
    {
     "data": {
      "text/plain": [
       "199628"
      ]
     },
     "execution_count": 63,
     "metadata": {},
     "output_type": "execute_result"
    }
   ],
   "source": [
    "sums.sort(reverse=True)\n",
    "\n",
    "# get sum of top three elves\n",
    "sum(sums[0:3])"
   ]
  }
 ],
 "metadata": {
  "kernelspec": {
   "display_name": "Python 3 (ipykernel)",
   "language": "python",
   "name": "python3"
  },
  "language_info": {
   "codemirror_mode": {
    "name": "ipython",
    "version": 3
   },
   "file_extension": ".py",
   "mimetype": "text/x-python",
   "name": "python",
   "nbconvert_exporter": "python",
   "pygments_lexer": "ipython3",
   "version": "3.9.12"
  }
 },
 "nbformat": 4,
 "nbformat_minor": 5
}
